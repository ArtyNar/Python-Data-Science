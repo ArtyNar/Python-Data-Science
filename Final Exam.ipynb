{
 "cells": [
  {
   "cell_type": "markdown",
   "metadata": {},
   "source": [
    "# Final Exam \n",
    "#### Honors Data Science and Statistics - HNRS: 2920\n",
    "#### Professor Chan"
   ]
  },
  {
   "cell_type": "markdown",
   "metadata": {},
   "source": [
    "## Name:  Artem Koval"
   ]
  },
  {
   "cell_type": "code",
   "execution_count": 1,
   "metadata": {},
   "outputs": [],
   "source": [
    "from datascience import *\n",
    "import numpy as np\n",
    "\n",
    "%matplotlib inline\n",
    "import matplotlib.pyplot as plots\n",
    "plots.style.use('fivethirtyeight')"
   ]
  },
  {
   "cell_type": "markdown",
   "metadata": {},
   "source": [
    "**Note:** that your personal opinion is not to be included in this assignment. You are to report only what your statistical analysis finds and what your research findings are. You are allowed to include your personal opinion briefly in the conclusion section as outlined below. "
   ]
  },
  {
   "cell_type": "markdown",
   "metadata": {},
   "source": [
    "### Introduction"
   ]
  },
  {
   "cell_type": "markdown",
   "metadata": {},
   "source": [
    "The data below is taken from the SLC airport weather station starting in 1949. For each year the number of observations N is recorded. From these observation the average minimum temperature tmin is recorded and the average maximum temperature is recorded."
   ]
  },
  {
   "cell_type": "code",
   "execution_count": 2,
   "metadata": {},
   "outputs": [
    {
     "data": {
      "text/html": [
       "<table border=\"1\" class=\"dataframe\">\n",
       "    <thead>\n",
       "        <tr>\n",
       "            <th>Year</th> <th>N</th> <th>tmin</th> <th>tmax</th> <th>tavg</th> <th>Date</th> <th>decade</th>\n",
       "        </tr>\n",
       "    </thead>\n",
       "    <tbody>\n",
       "        <tr>\n",
       "            <td>1949</td> <td>365 </td> <td>37.937 </td> <td>62.3151</td> <td>nan </td> <td>1/1/1949</td> <td>4     </td>\n",
       "        </tr>\n",
       "        <tr>\n",
       "            <td>1950</td> <td>365 </td> <td>39.5918</td> <td>63.6548</td> <td>nan </td> <td>1/1/1950</td> <td>5     </td>\n",
       "        </tr>\n",
       "        <tr>\n",
       "            <td>1951</td> <td>365 </td> <td>38.6356</td> <td>62.0795</td> <td>nan </td> <td>1/1/1951</td> <td>5     </td>\n",
       "        </tr>\n",
       "        <tr>\n",
       "            <td>1952</td> <td>366 </td> <td>39.4262</td> <td>62.6831</td> <td>nan </td> <td>1/1/1952</td> <td>5     </td>\n",
       "        </tr>\n",
       "        <tr>\n",
       "            <td>1953</td> <td>365 </td> <td>41.3096</td> <td>65.1863</td> <td>nan </td> <td>1/1/1953</td> <td>5     </td>\n",
       "        </tr>\n",
       "    </tbody>\n",
       "</table>\n",
       "<p>... (64 rows omitted)</p>"
      ],
      "text/plain": [
       "<IPython.core.display.HTML object>"
      ]
     },
     "metadata": {},
     "output_type": "display_data"
    }
   ],
   "source": [
    "data = Table.read_table('SLCyearly.csv')\n",
    "data.show(5)"
   ]
  },
  {
   "cell_type": "markdown",
   "metadata": {},
   "source": [
    "***Question 1:*** Research at least two causes of climate change and at least one possible solution to climate change. Summarize what you find and cite your sources. These sources will need to be a credible newspaper, research article, or book. You are required to write at least two paragraphs. "
   ]
  },
  {
   "cell_type": "markdown",
   "metadata": {},
   "source": [
    "***Answer:***\n",
    "    \n",
    "    Two causes of climat change I researched are greenhouse gas emmisions and conversion of land for forestry and agriculture. The primary source of human-generated emissions is the burning of fossil fuels like coal, oil, and gas for electricity, heat, and transportation. We have increased the levels of greenhouse gases to levels unprecedented in at least the last 800,000 years. It is definitely more than ecosystem of our planet can handle, especially of how recent and artificial this emmisions are.\n",
    "    \n",
    "    The conversion of land for forestry, agriculture, and cities is also human caused. The best example of it is the cultivation of forests for our needs - as the planet has less \"green\" land, less greenhouse gases are being absobed by our ecosysyem through photosynthesis. Additionally, since the beginning of the Industrial Revolution, we have dramatically increased the consumption of wood and natural resources like coal and oil.\n",
    "    \n",
    "***Sources:*** \n",
    "\n",
    "https://www.canada.ca/en/environment-climate-change/services/climate-change/causes.html\n",
    "\n",
    "\n",
    "https://www.nrdc.org/stories/global-climate-change-what-you-need-know"
   ]
  },
  {
   "cell_type": "markdown",
   "metadata": {},
   "source": [
    "***Question 2:*** Explain how climate change impacts society and the environment. Provide at least two citations and write are least two paragraphs."
   ]
  },
  {
   "cell_type": "markdown",
   "metadata": {},
   "source": [
    "***Answer:*** \n",
    "   \n",
    "    First of all, the invironment. Climat change disrupts weather and season cycles. Winters are becoming warmer, while summers are becoming hotter. Sea level rises, as well as oceans become more acidic and warmer. Air becomes more pollute across the world. Many different ecosystems are being affected, which leads to extinction of many anymal and plant kinds. \n",
    "\n",
    "    This all directly negatively affects us humans. Pollute air and more hostile environments direvtly lead to the human health issues. Some of the highly populated urban areas are so pollute, that the pollution becomes a national emergency. The potential long term effects on humans are even more inpactful - we might reach a point of no return within years - it would mean that the negative changes that humans made on the planet would become irreversable. \n",
    "    \n",
    "***Sources:*** \n",
    "\n",
    "https://www.canada.ca/en/environment-climate-change/services/climate-change/causes.html\n",
    "\n",
    "\n",
    "https://www.nrdc.org/stories/global-climate-change-what-you-need-know"
   ]
  },
  {
   "cell_type": "markdown",
   "metadata": {},
   "source": [
    "**Question 3:** Is this an observational data set or a completely ranomized designed experiment? Explain why or why not?"
   ]
  },
  {
   "cell_type": "markdown",
   "metadata": {},
   "source": [
    "***Answer:***\n",
    "\n",
    "    Sadly, we cannot have a randomized designed experiment in this case. If we did, we would need a lot of different cities, assign them randomly to different factors, and tests over time how certain things affect the environment in those cities. And, obviously, we do not have an ability to test it, and it would be unethical to do, but we can observe data we have and draw the conclusions from the dataset."
   ]
  },
  {
   "cell_type": "markdown",
   "metadata": {},
   "source": [
    "**Question 4:** What types of conclusions can be drawn from this data set? Explain your reasoning"
   ]
  },
  {
   "cell_type": "markdown",
   "metadata": {},
   "source": [
    "**Answer:**\n",
    "    \n",
    "    What we can test, is if there is any pattern in how the temperature is changing over time. In particular, we can see how the average minimum and the average maximum temperature per year is changing over time, and if there is any pattern after all."
   ]
  },
  {
   "cell_type": "markdown",
   "metadata": {},
   "source": [
    "# Data analysis and exploration: average minimum and maximum temperature"
   ]
  },
  {
   "cell_type": "markdown",
   "metadata": {},
   "source": [
    "***Question 5:*** Make a scatter diagram of average minimum temperature versus year"
   ]
  },
  {
   "cell_type": "code",
   "execution_count": 3,
   "metadata": {},
   "outputs": [
    {
     "data": {
      "image/png": "[encoded data removed]",
      "text/plain": [
       "<Figure size 360x360 with 1 Axes>"
      ]
     },
     "metadata": {},
     "output_type": "display_data"
    }
   ],
   "source": [
    "#Answer\n",
    "data.scatter('Year', 'tmin')"
   ]
  },
  {
   "cell_type": "markdown",
   "metadata": {},
   "source": [
    "**Question 6:** Calculate the correlation coefficient between average minimum temperature and year. You may need to add additionl lines of code to define the correlation function."
   ]
  },
  {
   "cell_type": "code",
   "execution_count": 4,
   "metadata": {},
   "outputs": [
    {
     "data": {
      "text/plain": [
       "0.7899052562728391"
      ]
     },
     "execution_count": 4,
     "metadata": {},
     "output_type": "execute_result"
    }
   ],
   "source": [
    "def standard_units(any_numbers):\n",
    "    \"Convert any array of numbers to standard units.\"\n",
    "    return (any_numbers - np.mean(any_numbers))/np.std(any_numbers)  \n",
    "\n",
    "def correlation(t, x, y):\n",
    "    return np.mean(standard_units(t.column(x))*standard_units(t.column(y)))\n",
    "\n",
    "correlation(data,'Year', 'tmin')"
   ]
  },
  {
   "cell_type": "markdown",
   "metadata": {},
   "source": [
    "***Question 7:*** Explain the meaning of the correlation coefficient in the context of the data. What does the coefficient indicate about the data. Write at least 2-3 sentences."
   ]
  },
  {
   "cell_type": "markdown",
   "metadata": {},
   "source": [
    "***Answer:*** \n",
    "\n",
    "    The linear relation between the time and average temperature per year is positive, and very hight - 0.79, which is very close to one. It meanst that there is definitely an assosiation between those two variables, but not necessarily causation. "
   ]
  },
  {
   "cell_type": "markdown",
   "metadata": {},
   "source": [
    "***Question 8:*** Calculate and state the linear regression equation between tmin and year. Year is the input variable and tmin is the response variable. You will need to define several functions and will need several lines of code."
   ]
  },
  {
   "cell_type": "code",
   "execution_count": 5,
   "metadata": {},
   "outputs": [
    {
     "name": "stdout",
     "output_type": "stream",
     "text": [
      "0.08360824569017172\n",
      "-124.86094162216123\n",
      "Equation: tmin = m * Year * b = 0.08360824569017172 * Year -124.86094162216123\n"
     ]
    }
   ],
   "source": [
    "\n",
    "def slope(t, label_x, label_y):\n",
    "    m = correlation(t, label_x, label_y)\n",
    "    return m*np.std(t.column(label_y))/np.std(t.column(label_x))\n",
    "\n",
    "def intercept(t, label_x, label_y):\n",
    "    b = np.mean(t.column(label_y)) - slope(t, label_x, label_y)*np.mean(t.column(label_x))\n",
    "    return b\n",
    "\n",
    "m = slope(data,'Year','tmin')\n",
    "b = intercept(data,'Year','tmin')\n",
    "print(m)\n",
    "print(b)\n",
    "\n",
    "print('Equation: tmin = m * Year * b =', m, '* Year', b) "
   ]
  },
  {
   "cell_type": "markdown",
   "metadata": {},
   "source": [
    "Linear regression equation:\n",
    "$$ \n",
    "tmin =  slope \\times Year + intercept\n",
    "$$"
   ]
  },
  {
   "cell_type": "markdown",
   "metadata": {},
   "source": [
    "***Question 8:*** Plot the linear regression line against the data set. According to the graph how well does the data fit the regression equation?"
   ]
  },
  {
   "cell_type": "code",
   "execution_count": 6,
   "metadata": {},
   "outputs": [
    {
     "data": {
      "image/png": "[encoded data removed]",
      "text/plain": [
       "<Figure size 360x360 with 1 Axes>"
      ]
     },
     "metadata": {},
     "output_type": "display_data"
    }
   ],
   "source": [
    "#Answer\n",
    "regression_min = data.select('Year', 'tmin').with_column('Regression Prediction', m*data.column('Year') + b)\n",
    "regression_min.scatter('Year')"
   ]
  },
  {
   "cell_type": "markdown",
   "metadata": {},
   "source": [
    "***Question 9:*** According to the linear regression equation, by how much does the average minimum temperature increase every 10 years?"
   ]
  },
  {
   "cell_type": "markdown",
   "metadata": {},
   "source": [
    "***Answer:*** \n",
    "    \n",
    "    We have to multiply slope times 10 years - 0.8 degrees increase every 10 years"
   ]
  },
  {
   "cell_type": "markdown",
   "metadata": {},
   "source": [
    "***Question 10:*** Explain why a slope of zero for the linear regression model would indicate according to the linear model that the average minimum temperature does not change per year."
   ]
  },
  {
   "cell_type": "markdown",
   "metadata": {},
   "source": [
    "**Answer:** \n",
    "\n",
    "    If slope would be zero in this case, it would mean that afer any amount of years, the average temperature amount would neither increase or decrease. "
   ]
  },
  {
   "cell_type": "markdown",
   "metadata": {},
   "source": [
    "***Question 11:*** Calculate a 95% confidence interval for the slope of the linear regression model. You may need to add additional lines of code to answer this question."
   ]
  },
  {
   "cell_type": "code",
   "execution_count": 7,
   "metadata": {},
   "outputs": [],
   "source": [
    "def bootstrap_slope(table, x, y, repetitions):\n",
    "    \n",
    "    # For each repetition:\n",
    "    # Bootstrap the scatter, get the slope of the regression line,\n",
    "    # augment the list of generated slopes\n",
    "    \n",
    "    ...#Complete the missing code here <------\n",
    "    slopes = make_array()\n",
    "    for i in np.arange(repetitions):\n",
    "        bootstrap_sample = table.sample()\n",
    "        bootstrap_slope = slope(bootstrap_sample, x, y)\n",
    "        slopes = np.append(slopes, bootstrap_slope)\n",
    "        \n",
    "    # Find the endpoints of the 95% confidence interval for the true slope\n",
    "    left = percentile(2.5, slopes)\n",
    "    right = percentile(97.5, slopes)\n",
    "    \n",
    "    # Slope of the regression line from the original sample\n",
    "    observed_slope = slope(table, x, y)\n",
    "    \n",
    "    # Display results\n",
    "    Table().with_column('Bootstrap Slopes', slopes).hist(bins=20)\n",
    "    plots.plot(make_array(left, right), make_array(0, 0), color='yellow', lw=8);\n",
    "    print('Slope of regression line:', observed_slope)\n",
    "    print('Approximate 95%-confidence interval for the true slope:')\n",
    "    print(left, right)"
   ]
  },
  {
   "cell_type": "code",
   "execution_count": 8,
   "metadata": {},
   "outputs": [
    {
     "name": "stdout",
     "output_type": "stream",
     "text": [
      "Slope of regression line: 0.08360824569017172\n",
      "Approximate 95%-confidence interval for the true slope:\n",
      "0.0659177050251646 0.10115485586695873\n"
     ]
    },
    {
     "data": {
      "image/png": "[encoded data removed]",
      "text/plain": [
       "<Figure size 432x288 with 1 Axes>"
      ]
     },
     "metadata": {},
     "output_type": "display_data"
    }
   ],
   "source": [
    "bootstrap_slope(data,'Year','tmin',5000)"
   ]
  },
  {
   "cell_type": "markdown",
   "metadata": {},
   "source": [
    "***Question 11:*** Based on the 95% confidence interval for the slope of the regression equation do you think it is possible that the true slope of the regression equation is likely zero? What is the lower and larger value that the temperature is likely to increase every 10 years according to the boot strapped slope of the linear regression equation."
   ]
  },
  {
   "cell_type": "markdown",
   "metadata": {},
   "source": [
    "***Answer:*** \n",
    "\n",
    "    No, it is not likely to be zero. According to the boot strapped slope, the temperature is likely to increase from 0.06 to 0.1 degrees every year, and 0.6 to 1 degree every ten years."
   ]
  },
  {
   "cell_type": "markdown",
   "metadata": {},
   "source": [
    "***Question 12:*** Make a scatter plot of the residuals. You will need to complete the following functions below. "
   ]
  },
  {
   "cell_type": "markdown",
   "metadata": {},
   "source": [
    "Write a function that takes inputs of a table, slope, and intercept. The function will output the predicted value from the linear regression equation:\n",
    "$$\n",
    "\\text{Predicted value} = mx+b\n",
    "$$\n",
    "where m is the slope of the linear regression equation, and b is the intercept."
   ]
  },
  {
   "cell_type": "code",
   "execution_count": 9,
   "metadata": {},
   "outputs": [
    {
     "data": {
      "text/html": [
       "<table border=\"1\" class=\"dataframe\">\n",
       "    <thead>\n",
       "        <tr>\n",
       "            <th>Year</th> <th>N</th> <th>tmin</th> <th>tmax</th> <th>tavg</th> <th>Date</th> <th>decade</th> <th>predicted</th>\n",
       "        </tr>\n",
       "    </thead>\n",
       "    <tbody>\n",
       "        <tr>\n",
       "            <td>1949</td> <td>365 </td> <td>37.937 </td> <td>62.3151</td> <td>nan </td> <td>1/1/1949</td> <td>4     </td> <td>38.0915  </td>\n",
       "        </tr>\n",
       "        <tr>\n",
       "            <td>1950</td> <td>365 </td> <td>39.5918</td> <td>63.6548</td> <td>nan </td> <td>1/1/1950</td> <td>5     </td> <td>38.1751  </td>\n",
       "        </tr>\n",
       "        <tr>\n",
       "            <td>1951</td> <td>365 </td> <td>38.6356</td> <td>62.0795</td> <td>nan </td> <td>1/1/1951</td> <td>5     </td> <td>38.2587  </td>\n",
       "        </tr>\n",
       "        <tr>\n",
       "            <td>1952</td> <td>366 </td> <td>39.4262</td> <td>62.6831</td> <td>nan </td> <td>1/1/1952</td> <td>5     </td> <td>38.3424  </td>\n",
       "        </tr>\n",
       "        <tr>\n",
       "            <td>1953</td> <td>365 </td> <td>41.3096</td> <td>65.1863</td> <td>nan </td> <td>1/1/1953</td> <td>5     </td> <td>38.426   </td>\n",
       "        </tr>\n",
       "        <tr>\n",
       "            <td>1954</td> <td>365 </td> <td>40.2027</td> <td>65.3205</td> <td>nan </td> <td>1/1/1954</td> <td>5     </td> <td>38.5096  </td>\n",
       "        </tr>\n",
       "        <tr>\n",
       "            <td>1955</td> <td>365 </td> <td>37.1479</td> <td>62.0027</td> <td>nan </td> <td>1/1/1955</td> <td>5     </td> <td>38.5932  </td>\n",
       "        </tr>\n",
       "        <tr>\n",
       "            <td>1956</td> <td>366 </td> <td>38.2268</td> <td>64.6858</td> <td>nan </td> <td>1/1/1956</td> <td>5     </td> <td>38.6768  </td>\n",
       "        </tr>\n",
       "        <tr>\n",
       "            <td>1957</td> <td>365 </td> <td>39.6548</td> <td>63.8027</td> <td>nan </td> <td>1/1/1957</td> <td>5     </td> <td>38.7604  </td>\n",
       "        </tr>\n",
       "        <tr>\n",
       "            <td>1958</td> <td>365 </td> <td>40.6384</td> <td>66.5973</td> <td>nan </td> <td>1/1/1958</td> <td>5     </td> <td>38.844   </td>\n",
       "        </tr>\n",
       "    </tbody>\n",
       "</table>\n",
       "<p>... (59 rows omitted)</p>"
      ],
      "text/plain": [
       "Year | N    | tmin    | tmax    | tavg | Date     | decade | predicted\n",
       "1949 | 365  | 37.937  | 62.3151 | nan  | 1/1/1949 | 4      | 38.0915\n",
       "1950 | 365  | 39.5918 | 63.6548 | nan  | 1/1/1950 | 5      | 38.1751\n",
       "1951 | 365  | 38.6356 | 62.0795 | nan  | 1/1/1951 | 5      | 38.2587\n",
       "1952 | 366  | 39.4262 | 62.6831 | nan  | 1/1/1952 | 5      | 38.3424\n",
       "1953 | 365  | 41.3096 | 65.1863 | nan  | 1/1/1953 | 5      | 38.426\n",
       "1954 | 365  | 40.2027 | 65.3205 | nan  | 1/1/1954 | 5      | 38.5096\n",
       "1955 | 365  | 37.1479 | 62.0027 | nan  | 1/1/1955 | 5      | 38.5932\n",
       "1956 | 366  | 38.2268 | 64.6858 | nan  | 1/1/1956 | 5      | 38.6768\n",
       "1957 | 365  | 39.6548 | 63.8027 | nan  | 1/1/1957 | 5      | 38.7604\n",
       "1958 | 365  | 40.6384 | 66.5973 | nan  | 1/1/1958 | 5      | 38.844\n",
       "... (59 rows omitted)"
      ]
     },
     "execution_count": 9,
     "metadata": {},
     "output_type": "execute_result"
    }
   ],
   "source": [
    "def predicted(table, slope, intercept):\n",
    "    predicted_value =  slope*table.column('Year')+intercept\n",
    "    data_with_predictions = data.with_column(\n",
    "        'predicted', predicted_value\n",
    "    )\n",
    "    return data_with_predictions\n",
    "predicted(data,m,b)"
   ]
  },
  {
   "cell_type": "markdown",
   "metadata": {},
   "source": [
    "Now calculate the residuals with the following formula, and make a scatter plot of the residuals.\n",
    "$$\n",
    "\\text{residual} = \\text{observed value of y} - \\text{predicted value of y}\n",
    "$$"
   ]
  },
  {
   "cell_type": "code",
   "execution_count": 10,
   "metadata": {},
   "outputs": [],
   "source": [
    "data_with_predictions = predicted(data,m,b)\n",
    "def residual(observed, predicted):\n",
    "    residual = observed - predicted   \n",
    "    return residual\n",
    "residuals = residual(data_with_predictions.column('tmin'), data_with_predictions.column('predicted'))"
   ]
  },
  {
   "cell_type": "code",
   "execution_count": 21,
   "metadata": {
    "scrolled": true
   },
   "outputs": [
    {
     "data": {
      "text/html": [
       "<table border=\"1\" class=\"dataframe\">\n",
       "    <thead>\n",
       "        <tr>\n",
       "            <th>Year</th> <th>N</th> <th>tmin</th> <th>tmax</th> <th>tavg</th> <th>Date</th> <th>decade</th> <th>predicted</th> <th>residual</th>\n",
       "        </tr>\n",
       "    </thead>\n",
       "    <tbody>\n",
       "        <tr>\n",
       "            <td>1949</td> <td>365 </td> <td>37.937 </td> <td>62.3151</td> <td>nan </td> <td>1/1/1949</td> <td>4     </td> <td>38.0915  </td> <td>-0.154543</td>\n",
       "        </tr>\n",
       "        <tr>\n",
       "            <td>1950</td> <td>365 </td> <td>39.5918</td> <td>63.6548</td> <td>nan </td> <td>1/1/1950</td> <td>5     </td> <td>38.1751  </td> <td>1.41664  </td>\n",
       "        </tr>\n",
       "        <tr>\n",
       "            <td>1951</td> <td>365 </td> <td>38.6356</td> <td>62.0795</td> <td>nan </td> <td>1/1/1951</td> <td>5     </td> <td>38.2587  </td> <td>0.376871 </td>\n",
       "        </tr>\n",
       "        <tr>\n",
       "            <td>1952</td> <td>366 </td> <td>39.4262</td> <td>62.6831</td> <td>nan </td> <td>1/1/1952</td> <td>5     </td> <td>38.3424  </td> <td>1.08388  </td>\n",
       "        </tr>\n",
       "        <tr>\n",
       "            <td>1953</td> <td>365 </td> <td>41.3096</td> <td>65.1863</td> <td>nan </td> <td>1/1/1953</td> <td>5     </td> <td>38.426   </td> <td>2.88363  </td>\n",
       "        </tr>\n",
       "        <tr>\n",
       "            <td>1954</td> <td>365 </td> <td>40.2027</td> <td>65.3205</td> <td>nan </td> <td>1/1/1954</td> <td>5     </td> <td>38.5096  </td> <td>1.69317  </td>\n",
       "        </tr>\n",
       "        <tr>\n",
       "            <td>1955</td> <td>365 </td> <td>37.1479</td> <td>62.0027</td> <td>nan </td> <td>1/1/1955</td> <td>5     </td> <td>38.5932  </td> <td>-1.44523 </td>\n",
       "        </tr>\n",
       "        <tr>\n",
       "            <td>1956</td> <td>366 </td> <td>38.2268</td> <td>64.6858</td> <td>nan </td> <td>1/1/1956</td> <td>5     </td> <td>38.6768  </td> <td>-0.450011</td>\n",
       "        </tr>\n",
       "        <tr>\n",
       "            <td>1957</td> <td>365 </td> <td>39.6548</td> <td>63.8027</td> <td>nan </td> <td>1/1/1957</td> <td>5     </td> <td>38.7604  </td> <td>0.894399 </td>\n",
       "        </tr>\n",
       "        <tr>\n",
       "            <td>1958</td> <td>365 </td> <td>40.6384</td> <td>66.5973</td> <td>nan </td> <td>1/1/1958</td> <td>5     </td> <td>38.844   </td> <td>1.79435  </td>\n",
       "        </tr>\n",
       "    </tbody>\n",
       "</table>\n",
       "<p>... (59 rows omitted)</p>"
      ],
      "text/plain": [
       "Year | N    | tmin    | tmax    | tavg | Date     | decade | predicted | residual\n",
       "1949 | 365  | 37.937  | 62.3151 | nan  | 1/1/1949 | 4      | 38.0915   | -0.154543\n",
       "1950 | 365  | 39.5918 | 63.6548 | nan  | 1/1/1950 | 5      | 38.1751   | 1.41664\n",
       "1951 | 365  | 38.6356 | 62.0795 | nan  | 1/1/1951 | 5      | 38.2587   | 0.376871\n",
       "1952 | 366  | 39.4262 | 62.6831 | nan  | 1/1/1952 | 5      | 38.3424   | 1.08388\n",
       "1953 | 365  | 41.3096 | 65.1863 | nan  | 1/1/1953 | 5      | 38.426    | 2.88363\n",
       "1954 | 365  | 40.2027 | 65.3205 | nan  | 1/1/1954 | 5      | 38.5096   | 1.69317\n",
       "1955 | 365  | 37.1479 | 62.0027 | nan  | 1/1/1955 | 5      | 38.5932   | -1.44523\n",
       "1956 | 366  | 38.2268 | 64.6858 | nan  | 1/1/1956 | 5      | 38.6768   | -0.450011\n",
       "1957 | 365  | 39.6548 | 63.8027 | nan  | 1/1/1957 | 5      | 38.7604   | 0.894399\n",
       "1958 | 365  | 40.6384 | 66.5973 | nan  | 1/1/1958 | 5      | 38.844    | 1.79435\n",
       "... (59 rows omitted)"
      ]
     },
     "execution_count": 21,
     "metadata": {},
     "output_type": "execute_result"
    },
    {
     "data": {
      "image/png": "[encoded data removed]",
      "text/plain": [
       "<Figure size 360x360 with 1 Axes>"
      ]
     },
     "metadata": {},
     "output_type": "display_data"
    }
   ],
   "source": [
    "#Now make a scatter plot of the residuals\n",
    "Table().with_columns('Year', data.column('Year'), 'Residuals', residuals).scatter('Year')\n",
    "data_with_predictions.append_column('residual', residuals)"
   ]
  },
  {
   "cell_type": "markdown",
   "metadata": {},
   "source": [
    "***Question 13:*** Based on the scatter plot of the residuals does the variance appear to be relatively constant. Carefully explain your answer, and determine if the assumption of constant variance for linear regression is reasonable."
   ]
  },
  {
   "cell_type": "markdown",
   "metadata": {},
   "source": [
    "***Answer:*** \n",
    "\n",
    "    Variance appears to be constant, as most of the residuals vary between -1 and 1, are equally distributed thorugh the years, and the graph appears to be ssymmetric along the 0 axis."
   ]
  },
  {
   "cell_type": "markdown",
   "metadata": {},
   "source": [
    "***Question 14:*** Make a histogram of the residuals. Do the residuals appear the be approximatley normally distributed? Is the assumption of normality in linear regression appear reasonable?"
   ]
  },
  {
   "cell_type": "markdown",
   "metadata": {},
   "source": [
    "***Answer:***\n",
    "\n",
    "    Yes, residuals appear to be normally distributed, as the histogram shows all residuals to be mostly or close to 0.  It seems like assumption of normality in linear regression is reasonable, as we got an expected result for residual distribution, variance is constant and graph is symmetric around 0"
   ]
  },
  {
   "cell_type": "code",
   "execution_count": 22,
   "metadata": {},
   "outputs": [
    {
     "data": {
      "image/png": "[encoded data removed]",
      "text/plain": [
       "<Figure size 432x288 with 1 Axes>"
      ]
     },
     "metadata": {},
     "output_type": "display_data"
    }
   ],
   "source": [
    "bins = np.arange(-4,4,1.5)\n",
    "data_with_predictions.hist('residual', bins = bins)"
   ]
  },
  {
   "cell_type": "markdown",
   "metadata": {},
   "source": [
    "***Question 15:*** Is the assumption of independence of observations for this data set valid? Explain your answer based on the nature of the data, and then with a conclusion of yes or no."
   ]
  },
  {
   "cell_type": "markdown",
   "metadata": {},
   "source": [
    "***Answer:*** \n",
    "    \n",
    "    After analyzing our data, visualizing the linear regression and analyzing residuals, it appears that assumption of independence of observations is valid. The result of calculating residuals shows, that our prediction made has a constant, and close to zoro, amount of error in our prediction comparing to our actual data. We can conclude that our observations are independent, and that there is a linear positive relationship between the temperature and time - it is increasing over time."
   ]
  },
  {
   "cell_type": "markdown",
   "metadata": {},
   "source": [
    "**Question 16:** Make a scatter diagram of the average maximum temperatures with the regression line plotted on the same graph."
   ]
  },
  {
   "cell_type": "code",
   "execution_count": 23,
   "metadata": {},
   "outputs": [
    {
     "name": "stdout",
     "output_type": "stream",
     "text": [
      "Correlation: 0.2805516416999281\n"
     ]
    },
    {
     "data": {
      "image/png": "[encoded data removed]",
      "text/plain": [
       "<Figure size 360x360 with 1 Axes>"
      ]
     },
     "metadata": {},
     "output_type": "display_data"
    }
   ],
   "source": [
    "#Answer\n",
    "print('Correlation:',correlation(data,'Year', 'tmax'))\n",
    "\n",
    "m = slope(data,'Year','tmax')\n",
    "b = intercept(data,'Year','tmax')\n",
    "\n",
    "regression_max = data.select('Year', 'tmax').with_column('Regression Prediction', m*data.column('Year') + b)\n",
    "regression_max.scatter('Year')"
   ]
  },
  {
   "cell_type": "markdown",
   "metadata": {},
   "source": [
    "***Question 17:*** Calculate the linear regression equation between tmax and year. Year is the input variable and tmin is the response variable. "
   ]
  },
  {
   "cell_type": "code",
   "execution_count": 24,
   "metadata": {},
   "outputs": [
    {
     "name": "stdout",
     "output_type": "stream",
     "text": [
      "Equation: tmax = m * Year * b    Tmax =  0.02138662885860432 * Year + 21.773919361648495\n"
     ]
    }
   ],
   "source": [
    "#Answer\n",
    "m = slope(data,'Year','tmax')\n",
    "b = intercept(data,'Year','tmax')\n",
    "print('Equation: tmax = m * Year * b    Tmax = ',m, '* Year +',b )"
   ]
  },
  {
   "cell_type": "markdown",
   "metadata": {},
   "source": [
    "***Question 18:*** Calculate a 95% confidence interval for the slope of the linear regression model. You may need to add additional lines of code to answer this question."
   ]
  },
  {
   "cell_type": "code",
   "execution_count": 25,
   "metadata": {},
   "outputs": [
    {
     "name": "stdout",
     "output_type": "stream",
     "text": [
      "Slope of regression line: 0.02138662885860432\n",
      "Approximate 95%-confidence interval for the true slope:\n",
      "0.0023386672810790468 0.03912105235779452\n"
     ]
    },
    {
     "data": {
      "image/png": "[encoded data removed]",
      "text/plain": [
       "<Figure size 432x288 with 1 Axes>"
      ]
     },
     "metadata": {},
     "output_type": "display_data"
    }
   ],
   "source": [
    "#Answer:\n",
    "bootstrap_slope(data,'Year','tmax',5000)"
   ]
  },
  {
   "cell_type": "markdown",
   "metadata": {},
   "source": [
    "***Question 19:*** By how much is the average maximum temperature expected to increase every ten years? According to the 95% confidence interval what is the lower estimate per ten years? According to the 95% confidence interval what is the upper estimate?"
   ]
  },
  {
   "cell_type": "markdown",
   "metadata": {},
   "source": [
    "***Answer:*** \n",
    "    \n",
    "    According to the linear regression equation, the average maximum temperature increases 0.02 degrees every year, therefore it increases 0.2 degrees every 10 years. According to the 95% confidence interval, lower estimate is 0.002 degrees, and the upper estimate is 0.03 degrees. It means that the maximum average temperature is expected to raise from 0.002 to 0.03 degrees every year."
   ]
  },
  {
   "cell_type": "markdown",
   "metadata": {},
   "source": [
    "***Question 20:*** Explain why the anlysis you performed indicates that nights average minimum temperature are warming faster than days average maximum temperature. Explain why average minimum temperature is a measure of night time temperature and average maximum temperature is a measure of day time temperature?"
   ]
  },
  {
   "cell_type": "markdown",
   "metadata": {},
   "source": [
    "***Answer:*** \n",
    "\n",
    "    We can expect that the average minimum temperature would be observed during the night, and the maximum - during the day, as it is colder during the night, than during the day. According to our analysis, average nights minimum temperature is increasing at the rate of 0.06 degrees per year, which is faster than the increase in average maximum temperature during the day, which increases at the rate of 0.02 degrees a year."
   ]
  },
  {
   "cell_type": "markdown",
   "metadata": {},
   "source": [
    "***Question 21:*** Read this NYT article by John Schwartz titled, [\"Scientists Predict Scorching Temperatures to\n",
    "    Last Through Summer.\"](https://www.nytimes.com/2020/06/18/climate/summer-weather-prediction.html) According to the article nights are warming faster than days. What are two explations for this phenonemon? This article is also included in the assignment file with this jupyter notebook.\n",
    "    \n",
    "\n"
   ]
  },
  {
   "cell_type": "markdown",
   "metadata": {},
   "source": [
    "***Answers:***\n",
    "\n",
    "1. First expanation, derived from more local observations, is a cloud cover. More heat could lead to higher vaporization, therefore more clouds. This new clouds would trap more heat underneath them, therefore the air would stay warm at night.\n",
    "\n",
    "2. Another, more global explanation, involves the boundary layer, the lowest part of the atmosphere that is directly affected by the surface. As it is thinner during the night, the boundary layer at night warms more from the heat trapped by greenhouse gases."
   ]
  },
  {
   "cell_type": "markdown",
   "metadata": {},
   "source": [
    "***Question 22:*** Read this NYT article by John Schwartz titled, [\"Scientists Predict Scorching Temperatures to\n",
    "    Last Through Summer.\"](https://www.nytimes.com/2020/06/18/climate/summer-weather-prediction.html) According to the article cities are warming faster than suburbs. What are three possible causes for this?"
   ]
  },
  {
   "cell_type": "markdown",
   "metadata": {},
   "source": [
    "***Answers:***\n",
    "\n",
    "1. First of all, the lack of open space, and dencely packed territory. Those buildings and streets absorb more of the sun’s energy and radiate more heat than open spaces do.\n",
    "\n",
    "2. Lack of nature. Trees and grass evapotranspirate, which cools the air significantly, while trees also make shade. \n",
    "\n",
    "3. The last reason, is the waste heat that results from transportation, industry, and energy-consuming equipment. Everything radiates heat, as well as greenhouse gases, that increases the air temperature. \n"
   ]
  },
  {
   "cell_type": "markdown",
   "metadata": {},
   "source": [
    "# Data analysis and exploration: comparing temperature over time."
   ]
  },
  {
   "cell_type": "markdown",
   "metadata": {},
   "source": [
    "***Question 23:*** Divide the data set into two data sets called pre and post 1980. As indicated separate the data as data before 1980 and data reported as 1980 and after. Report the median, and average minimum temperature for pre vs post 1980."
   ]
  },
  {
   "cell_type": "code",
   "execution_count": 26,
   "metadata": {},
   "outputs": [],
   "source": [
    "#Answer\n",
    "pre = data.where('Year', are.below(1980))\n",
    "post = data.where('Year', are.above(1979))\n",
    "\n",
    "pre_median = percentile(50, pre.column('tmin'))\n",
    "post_median = percentile(50, post.column('tmin'))\n",
    "\n",
    "pre_average = np.average(pre.column('tmin'))\n",
    "post_average = np.average(post.column('tmin'))\n"
   ]
  },
  {
   "cell_type": "markdown",
   "metadata": {},
   "source": [
    "***Question 24:*** Make a histogram of the average minimum temperature of pre 1980 vs post overlaid on the same graph. "
   ]
  },
  {
   "cell_type": "code",
   "execution_count": 27,
   "metadata": {},
   "outputs": [
    {
     "data": {
      "image/png": "[encoded data removed]",
      "text/plain": [
       "<Figure size 432x288 with 1 Axes>"
      ]
     },
     "metadata": {},
     "output_type": "display_data"
    },
    {
     "data": {
      "image/png": "[encoded data removed]",
      "text/plain": [
       "<Figure size 432x288 with 1 Axes>"
      ]
     },
     "metadata": {},
     "output_type": "display_data"
    }
   ],
   "source": [
    "#Answer\n",
    "Table().with_columns('pre-1980', data.where('Year', are.below(1983)).column('tmin'),\n",
    "                 'post-1980', data.where('Year', are.above(1983)).column('tmin')).hist()\n",
    "\n",
    "#Also added a line graph of nibimal temperatures over time\n",
    "Table().with_columns('Year', data.column('Year'),\n",
    "                    'tmin', data.column('tmin')).plot('Year', 'tmin')"
   ]
  },
  {
   "cell_type": "markdown",
   "metadata": {},
   "source": [
    "***Question 25:*** Test the null hypothesis that the average minimum temperature pre 1980 is equal to the average minimum temperature of post 1980 against the alternative that average minimum temperature has increased post 1980. Use a permutation test to test this hypothesis at the 5% significance level. State the p-value and your decision. "
   ]
  },
  {
   "cell_type": "code",
   "execution_count": 28,
   "metadata": {},
   "outputs": [
    {
     "name": "stdout",
     "output_type": "stream",
     "text": [
      "p-value:\n"
     ]
    },
    {
     "data": {
      "text/plain": [
       "0.0"
      ]
     },
     "execution_count": 28,
     "metadata": {},
     "output_type": "execute_result"
    },
    {
     "data": {
      "image/png": "[encoded data removed]",
      "text/plain": [
       "<Figure size 432x288 with 1 Axes>"
      ]
     },
     "metadata": {},
     "output_type": "display_data"
    }
   ],
   "source": [
    "temperatures = data.select('tmin')\n",
    "pre_average = np.average(pre.column('tmin'))\n",
    "\n",
    "def random_sample_average():\n",
    "    random_sample = temperatures.sample(34, with_replacement=False)\n",
    "    return np.average(random_sample.column('tmin'))\n",
    "\n",
    "sample_averages = make_array()\n",
    "repetitions = 10000\n",
    "for i in np.arange(repetitions):\n",
    "    sample_averages = np.append(sample_averages, random_sample_average())\n",
    "    \n",
    "averages_tbl = Table().with_column('Sample Average', sample_averages)\n",
    "averages_tbl.hist()\n",
    "\n",
    "observed_statistic = pre_average\n",
    "print('p-value:')\n",
    "np.count_nonzero(sample_averages <= observed_statistic) / repetitions"
   ]
  },
  {
   "cell_type": "markdown",
   "metadata": {},
   "source": [
    "Answer: \n",
    "\n",
    "    We reject the null hypothesis, because the probability of the average tenperature of pre-1980 data being that much lower than the average total is statistically insignificant. The random sampling of data have determined that the null hypothesis fails and that the average temperature in fact have increased since 1980."
   ]
  },
  {
   "cell_type": "markdown",
   "metadata": {},
   "source": [
    "***Question 26:*** Read the NYT article, [\"It’s Not Your Imagination. Summers Are Getting Hotter\"](https://www.nytimes.com/interactive/2017/07/28/climate/more-frequent-extreme-summer-heat.html) by NADJA POPOVICH and ADAM PEARCE. What does the changing histograms indicate about temperatures in the article? What does the histogram indicate about how the median, mean, and variance have changed over time in the article? Does ***your data for pre and post 1980 histrograms for SLC*** show similar trends? Write about 2 paragraphs to explain in detail your answers. This article is available in the CANVAS assignment with the NYT article, but it is better to access the article online to see the animated histograms."
   ]
  },
  {
   "cell_type": "markdown",
   "metadata": {},
   "source": [
    "***Answers:***\n",
    "\n",
    "1. Changing histograms indicate how the data average temperature have changed in the Northern Hemisphere in the period of 2005-2015 comparing to 1994-2004 and 1950-1980. We can see, that the average temperature have dramatically increased towards higher temperatures.\n",
    "\n",
    "2. Histograms show, how mean have changed more towards the hot area on a histogram - it is a very top of a graph. It demonstrates how mean have changed also, as the histogram extends towards the extremely hot zone, the middle of a graph moved from the normal zone to the hot zone. \n",
    "   \n",
    "   Also, histograms demonstrate how variance have changed - over time, the histogram values are centered less around the median, and spread out more towards further from middle temperatures.\n",
    "    \n",
    "    \n",
    "3. The data shows the same exact result comparing to my pre and post 1980 diagram for SLC - the average temperatures changed more towards higher temperatures. We can conclude, that climate change and increase in temperature since 1980 is global."
   ]
  },
  {
   "cell_type": "markdown",
   "metadata": {},
   "source": [
    "# Discussion and Conclusions"
   ]
  },
  {
   "cell_type": "markdown",
   "metadata": {},
   "source": [
    "***Question 27:*** Read the NYT article: [\"Nights Are Warming Faster Than Days. Here’s Why That’s Dangerous\"](https://www.nytimes.com/interactive/2018/07/11/climate/summer-nights-warming-faster-than-days-dangerous.html) by KENDRA PIERRE-LOUIS and NADJA POPOVICH and answer the following questions. The article is also available in the CAVAS assignment with this python note book.\n",
    "\n",
    "Questions:\n",
    "\n",
    "1. Is the following true or false: according to the article nights are warming at nearly twice the rate of days?\n",
    "\n",
    "2. According to the data set for SLC, and the analysis you performed, by how much faster is the average minimum temperature of SLC increasing compared to the average maximum temperature?\n",
    "\n",
    "3. According to the NYT article is the following true or false: heat waves kill more Americans than any other natural disaster including floods, tornadoes and hurricanes?\n",
    "\n",
    "4. According to the NYT article is the following true or false: heat waves affect older people, the sick, and young children more than others?\n",
    "\n",
    "5. According to the NYT article is the following true or false: In cities like Los Angeles, Asian-American, black, and Hispanic residents are more likely to live in hotter parts of the city than white residents because of a complicated range of factors?\n",
    "\n",
    "6. According to the NYT article is the following true or false: lack of green spaces in some neighborhoods, for example, can exacerbate the heat island effect, a phenomenon in which cities are as much as 22 degrees Fahrenheit warmer than less built-up environments because of of their impervious, heat-absorbing surfaces?\n",
    "\n",
    "\n"
   ]
  },
  {
   "cell_type": "markdown",
   "metadata": {},
   "source": [
    "***Answers:***\n",
    "\n",
    "    1. True, while speaking of summer nights\n",
    "    \n",
    "    2. Slope of 0.08 for the night, and 0.02 for the day. So, the average minimum temperature of SLC is increasing 4 times faster.\n",
    "    \n",
    "    3. True.\n",
    "    \n",
    "    4. Yes, they are especially at risk.\n",
    "    \n",
    "    5 Yes.\n",
    "    \n",
    "    6. True."
   ]
  },
  {
   "cell_type": "markdown",
   "metadata": {},
   "source": [
    "***Question 28:*** Explain how this assignment and data are related to the [UNESCO](https://en.unesco.org/sustainabledevelopmentgoals) sustainability goals. Take 2-3 paragraphs to argue and explain your reasoning, and cite your sources."
   ]
  },
  {
   "cell_type": "markdown",
   "metadata": {},
   "source": [
    "***Answers:***\n",
    "\n",
    "    This assignment literally gives statistical and data evidence of global warming. It proves the effect of global warming on our own environment at SLC, and points out at causes, effects, dangers and potential solutions of global warming. It directly relates to the UNESCO sustainability goals, as UNESCO is one of the lead organisations taking action on climate change. \n",
    "    Another important thing from this assignment is education (Which is also one of the UNESCO sustainability goals). It is significantly impornat to bring awareness to the evidence of climate change, and this is what UNESCO is focused on.\n",
    "    The purpose of the UNESCO climate change fight is to bring up the issue, spread awareness of it, and to use data science and statistics as a tool to spread awareness.\n",
    "    \n",
    "***Sources:***\n",
    "\n",
    "https://en.unesco.org/sustainabledevelopmentgoals\n",
    "\n",
    "https://en.unesco.org/themes/addressing-climate-change"
   ]
  },
  {
   "cell_type": "markdown",
   "metadata": {},
   "source": [
    "***Question 29:*** Take 5-12 paragraphs to respond to the following questions, and cite your sources.\n",
    "Questions: \n",
    "\n",
    "1. What social responsibility does climate change play for us as individuals and as a society? To what extent are these different?\n",
    "\n",
    "2. What impact does climate change play on farming, and issues of income inequality?\n",
    "\n",
    "3. How does this project relate to critical thinking that is open-minded, objective, and as free as possible from prejudice and presupposition. What role does statistics and data play in relation to this?\n",
    "\n",
    "4. Explain how climate change is a multidisciplinary field that affects more than one form of the human experience.\n",
    "\n",
    "5. What ethical and economic considerations are related to climate change? Illustrate at least one ethical issue related to climate change. Is it possible to achieve both an ethical and economically satisifactory outcome with regard to climate change? Explain your answer and cite your sources.\n",
    "\n",
    "6. To what extent does climate change speak to the human condition both in which we share in common and also that differentiates us? \n",
    "\n"
   ]
  },
  {
   "cell_type": "markdown",
   "metadata": {},
   "source": [
    "***Sources:***\n",
    "\n",
    "1. Based on the evidence, as indivicuals and a society, there is a responsibility to recognize, address, and take action against such global issue. As global warming affects all people on a planet, and especially future generations, we cannot allow ourselves to be selfish and to not take immidiate action to solve the issue.\n",
    "\n",
    "\n",
    "2. It strongly hurts agriculture. Climate change can disrupt food availability, reduce access to food, and affect food quality. For example, projected increases in temperatures, changes in precipitation patterns, changes in extreme weather events, and reductions in water availability may all result in reduced agricultural productivity.\n",
    "    \n",
    "    Speaking of income inequality: something that previouse articles have mentioned, was an example of economic minorities in NYC, having to live in way hotter parts of a city comparing to more economically established population. Also, climate changes leads to the global ecomonic issues - per capita gross domestic product (GDP) has been reduced 17–31% at the poorest four deciles of the population-weighted country-level per capita GDP distribution, comparing to how it was before climate change. It follows that here is a very high likelihood that anthropogenic climate forcing has increased economic inequality between countries.\n",
    "    \n",
    "    \n",
    "3. This question is something I briefly discussed in question 28. People need to realize the significance of the issue before it is too late, and it requires education. This assignment shows that statistics is a very good, simple, and undeniable way to prove and show the effects of global warming, even to people who are not by far experts at statistics like us, students. However, this is still a huge problem to bring a global awareness on climate change.\n",
    "\n",
    "\n",
    "4. Climate change affects everybody and requires cooperation among many disciplines. It takes cooperation between scientists from almost every field of science, polititians, economists, businessmen, and literally everybody to reverse the global warming and take action. Statistics is definitely one of the field that is essential for this fight.\n",
    "\n",
    "\n",
    "5. First of all, there is an ethical dilemma for many people, as well as contries - those who are not affected or affected little might not see the reason to take action against climate change. Especially, when it is not profitable - there are obvious economic and social reasons for the extended work of factoreis, transportation, construction and energy that is economically or socially impossible to give up, especially for hte developing industrial countries, that simply don't have the means and economic power to respond to the issue.\n",
    "\n",
    "    \n",
    "    Is it possible to achieve an ethical and economically satisifactory outcome? Yes, and the best example of it is the country Canada. Canada is a lead country in the battle against polution and climate change. Canade has proven that it is possible to make a profit off recicling, and economically grow while taking huge steps in addressing climate change.\n",
    "    \n",
    "\n",
    "6. Climate change is an issue like humanity have ever fased before. It requires cooperation between everybody, simply because it involves everyone in a society, and it's our responsibility as a society to respond to it. This is a condition we share in common, and the differences between us is what makes it so important to cooperate. Developing countries are one of the biggest issues and sources of climate chagne, and this is why they need support and guidance of developed countries to deal with it, not punishment for pollution. Another example is the economic minorities in NYC - in that case, they suffer global warming the most, therefore they need a lot of support and attention to deal with it. "
   ]
  },
  {
   "cell_type": "markdown",
   "metadata": {},
   "source": [
    "***Sources:***\n",
    "\n",
    "https://19january2017snapshot.epa.gov/climate-impacts/climate-impacts-agriculture-and-food-supply_.html#:~:text=Climate%20change%20can%20disrupt%20food,result%20in%20reduced%20agricultural%20productivity.\n",
    "https://www.nature.com/scitable/knowledge/library/ethics-and-global-climate-change-84226631/\n",
    "https://www.canada.ca/en/services/environment/weather/climatechange.html\n",
    "https://www.pnas.org/content/116/20/9808"
   ]
  },
  {
   "cell_type": "markdown",
   "metadata": {},
   "source": [
    "***Question 30:*** Summarize your findings, and explain your conclusions in 4-6 paragraphs. What types of conclusions can be drawn from your data and analysis? What role does statistics and data play in answering these questions. What implications does this have for society, and what causes these temperature changes (cite your sources)?"
   ]
  },
  {
   "cell_type": "markdown",
   "metadata": {},
   "source": [
    "***Conclusion:***\n",
    "\n",
    "The data analysis and research performed in this assignment have taught me the part data science and statistics plays in recognizing, monitoring and resolving climate change. From the coding part of this assignment, we concluded that there are significant climate change effects in our own area. Also we concluded, that nights temperatures are growing dramatincally than the temperatures during the day. \n",
    "\n",
    "From the research part of this assignment, I learned how to analize the data we have worked with, and to also understand what it means. The statistical proof of climate change is impossible to deny, as the changes are noticable everywhere, and we saw it on an example of Salt Lake City and an entire Norther Hemisphere.\n",
    "\n",
    "Climate change have very strong implications on everyday life, economics, society and, especially, humanity's future. This is an extremely diverse issue that my generation will have to deal with. Climate change already has tremendous effects on our planet, and, if not dealt with, will lead to irreversable consequences.\n",
    "\n",
    "Even that dealing with climate change leads to the reasonable ethical issues, the trends proving global warming are undeniable. Global implications on health, economic dicline, environmental catastrophies and extinction of natural species - this a are all effects of climate change and global warming we already experience. To prefent further consequences, we have to cooperate as a society, and as a humanity. \n",
    "\n",
    "\n",
    "***Sources:***\n",
    "\n",
    "https://19january2017snapshot.epa.gov/climate-impacts/climate-impacts-agriculture-and-food-supply_.html#:~:text=Climate%20change%20can%20disrupt%20food,result%20in%20reduced%20agricultural%20productivity.\n",
    "https://www.nature.com/scitable/knowledge/library/ethics-and-global-climate-change-84226631/\n",
    "https://www.canada.ca/en/services/environment/weather/climatechange.html\n",
    "https://www.pnas.org/content/116/20/9808\n",
    "https://en.unesco.org/sustainabledevelopmentgoals\n",
    "https://en.unesco.org/themes/addressing-climate-change\n",
    "https://www.canada.ca/en/environment-climate-change/services/climate-change/causes.html\n",
    "https://www.nrdc.org/stories/global-climate-change-what-you-need-know"
   ]
  },
  {
   "cell_type": "markdown",
   "metadata": {},
   "source": []
  }
 ],
 "metadata": {
  "kernelspec": {
   "display_name": "Python 3",
   "language": "python",
   "name": "python3"
  },
  "language_info": {
   "codemirror_mode": {
    "name": "ipython",
    "version": 3
   },
   "file_extension": ".py",
   "mimetype": "text/x-python",
   "name": "python",
   "nbconvert_exporter": "python",
   "pygments_lexer": "ipython3",
   "version": "3.8.3"
  },
  "vscode": {
   "interpreter": {
    "hash": "e08285b79e82cec3fa9928985f76a6b4da39f73735994303bd0238f561ffe5c4"
   }
  }
 },
 "nbformat": 4,
 "nbformat_minor": 4
}
